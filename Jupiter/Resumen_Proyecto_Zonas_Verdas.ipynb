{
 "cells": [
  {
   "cell_type": "markdown",
   "id": "e5ca55b0",
   "metadata": {},
   "source": [
    "ZONAS VERDES EN EL PAÍS VASCO"
   ]
  },
  {
   "cell_type": "markdown",
   "id": "2a2fc0a5",
   "metadata": {},
   "source": [
    "----"
   ]
  },
  {
   "cell_type": "markdown",
   "id": "b455f5c6",
   "metadata": {},
   "source": [
    "**DESCRIPCION: \n",
    "\n",
    "El objetivo es analizar la superficie de zonas verdes en País Vasco. "
   ]
  },
  {
   "cell_type": "markdown",
   "id": "8de3eb01",
   "metadata": {},
   "source": [
    "**HIPOTESIS PRINCIPAL: \n",
    "\n",
    "¿Es Álava la provincia más verde del País Vasco?\n"
   ]
  },
  {
   "cell_type": "markdown",
   "id": "a4136174",
   "metadata": {},
   "source": [
    "**POSIBLES HIPÓTESIS:\n",
    "\n",
    "\n",
    "¿Cómo es la superficie mayoritaria en cada provincia?\n",
    "\n",
    "¿Cual es la capital más verde?"
   ]
  },
  {
   "cell_type": "markdown",
   "id": "ef155729",
   "metadata": {},
   "source": [
    "----"
   ]
  },
  {
   "cell_type": "markdown",
   "id": "563734c2",
   "metadata": {},
   "source": [
    "**OBTENCION DE LOS DATOS\n",
    "\n",
    "Indicadores municipales de sostenibilidad - Zonas verdes y áreas protegidas\n",
    "\n",
    "\n",
    "https://www.euskadi.eus/gobierno-vasco/-/indicadores-municipales-de-sostenibilidad-zonas-verdes-y-areas-protegidas/"
   ]
  }
 ],
 "metadata": {
  "language_info": {
   "name": "python"
  }
 },
 "nbformat": 4,
 "nbformat_minor": 5
}
