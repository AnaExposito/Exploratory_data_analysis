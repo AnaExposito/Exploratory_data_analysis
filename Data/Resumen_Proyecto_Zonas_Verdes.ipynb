{
 "cells": [
  {
   "cell_type": "markdown",
   "id": "e5ca55b0",
   "metadata": {},
   "source": [
    "ZONAS VERDES EN EL PAÍS VASCO"
   ]
  },
  {
   "cell_type": "markdown",
   "id": "2a2fc0a5",
   "metadata": {},
   "source": [
    "----"
   ]
  },
  {
   "cell_type": "markdown",
   "id": "b455f5c6",
   "metadata": {},
   "source": [
    "**DESCRIPCION: \n",
    "\n",
    "El objetivo es analizar la superficie de zonas verdes en País Vasco. "
   ]
  },
  {
   "cell_type": "markdown",
   "id": "8de3eb01",
   "metadata": {},
   "source": [
    "**HIPOTESIS PRINCIPAL: \n",
    "\n",
    "¿Es Álava la provincia más verde del País Vasco?\n"
   ]
  },
  {
   "cell_type": "markdown",
   "id": "a4136174",
   "metadata": {},
   "source": [
    "**POSIBLES HIPÓTESIS:\n",
    "\n",
    "\n",
    "¿Cómo es la superficie mayoritaria en cada provincia?\n",
    "\n",
    "¿Cual es la capital más verde?"
   ]
  },
  {
   "cell_type": "markdown",
   "id": "ef155729",
   "metadata": {},
   "source": [
    "----"
   ]
  },
  {
   "cell_type": "markdown",
   "id": "563734c2",
   "metadata": {},
   "source": [
    "**OBTENCION DE LOS DATOS\n",
    "\n",
    "Indicadores municipales de sostenibilidad - Zonas verdes y áreas protegidas\n",
    "\n",
    "\n",
    "https://www.euskadi.eus/gobierno-vasco/-/indicadores-municipales-de-sostenibilidad-zonas-verdes-y-areas-protegidas/"
   ]
  },
  {
   "cell_type": "markdown",
   "id": "317de096",
   "metadata": {},
   "source": [
    "----\n",
    "----"
   ]
  },
  {
   "cell_type": "code",
   "execution_count": 21,
   "id": "03955f94",
   "metadata": {},
   "outputs": [],
   "source": [
    "import pandas as pd\n",
    "import numpy as np\n"
   ]
  },
  {
   "cell_type": "markdown",
   "id": "0f713cce",
   "metadata": {},
   "source": [
    "Organizar información:\n",
    "\n",
    ".describe()\n",
    ".info()\n",
    "valores NAN\n"
   ]
  },
  {
   "cell_type": "markdown",
   "id": "3994d5b5",
   "metadata": {},
   "source": []
  },
  {
   "cell_type": "code",
   "execution_count": 11,
   "id": "6c8d55cb",
   "metadata": {},
   "outputs": [
    {
     "name": "stdout",
     "output_type": "stream",
     "text": [
      "c:\\Users\\infoa\\Documents\\THE_BRIDGE\\EDA_Ana\\Exploratory_data_analysis\\Jupiter\n"
     ]
    }
   ],
   "source": [
    "import os\n",
    "print(os.getcwd())"
   ]
  },
  {
   "cell_type": "code",
   "execution_count": 16,
   "id": "7339790b",
   "metadata": {},
   "outputs": [
    {
     "name": "stdout",
     "output_type": "stream",
     "text": [
      "False\n"
     ]
    }
   ],
   "source": [
    "import os\n",
    "print(os.path.exists('Exploratory_data_analysis/Jupiter/Superficie forestal_porcentaje_superficie total.csv'))\n"
   ]
  },
  {
   "cell_type": "code",
   "execution_count": 17,
   "id": "5cca3dac",
   "metadata": {},
   "outputs": [
    {
     "name": "stdout",
     "output_type": "stream",
     "text": [
      "False\n"
     ]
    }
   ],
   "source": [
    "print(os.path.exists('Exploratory_data_analysis/Jupiter/Superficie forestal_porcentaje_superficie total.csv'))"
   ]
  },
  {
   "cell_type": "code",
   "execution_count": 9,
   "id": "f40774c1",
   "metadata": {},
   "outputs": [
    {
     "ename": "FileNotFoundError",
     "evalue": "[WinError 3] El sistema no puede encontrar la ruta especificada: 'Exploratory_data_analysis/Data'",
     "output_type": "error",
     "traceback": [
      "\u001b[31m---------------------------------------------------------------------------\u001b[39m",
      "\u001b[31mFileNotFoundError\u001b[39m                         Traceback (most recent call last)",
      "\u001b[36mCell\u001b[39m\u001b[36m \u001b[39m\u001b[32mIn[9]\u001b[39m\u001b[32m, line 1\u001b[39m\n\u001b[32m----> \u001b[39m\u001b[32m1\u001b[39m \u001b[38;5;28mprint\u001b[39m(\u001b[43mos\u001b[49m\u001b[43m.\u001b[49m\u001b[43mlistdir\u001b[49m\u001b[43m(\u001b[49m\u001b[33;43m'\u001b[39;49m\u001b[33;43mExploratory_data_analysis/Data\u001b[39;49m\u001b[33;43m'\u001b[39;49m\u001b[43m)\u001b[49m)\n",
      "\u001b[31mFileNotFoundError\u001b[39m: [WinError 3] El sistema no puede encontrar la ruta especificada: 'Exploratory_data_analysis/Data'"
     ]
    }
   ],
   "source": [
    "print(os.listdir('Exploratory_data_analysis/Data'))"
   ]
  }
 ],
 "metadata": {
  "kernelspec": {
   "display_name": "Python 3",
   "language": "python",
   "name": "python3"
  },
  "language_info": {
   "codemirror_mode": {
    "name": "ipython",
    "version": 3
   },
   "file_extension": ".py",
   "mimetype": "text/x-python",
   "name": "python",
   "nbconvert_exporter": "python",
   "pygments_lexer": "ipython3",
   "version": "3.13.3"
  }
 },
 "nbformat": 4,
 "nbformat_minor": 5
}
